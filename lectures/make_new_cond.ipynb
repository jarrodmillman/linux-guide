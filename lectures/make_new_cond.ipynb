{
 "cells": [
  {
   "cell_type": "code",
   "execution_count": 1,
   "metadata": {
    "collapsed": true
   },
   "outputs": [],
   "source": [
    "from __future__ import print_function"
   ]
  },
  {
   "cell_type": "code",
   "execution_count": 2,
   "metadata": {
    "collapsed": true
   },
   "outputs": [],
   "source": [
    "import numpy as np"
   ]
  },
  {
   "cell_type": "code",
   "execution_count": 3,
   "metadata": {
    "collapsed": false
   },
   "outputs": [
    {
     "name": "stdout",
     "output_type": "stream",
     "text": [
      "10\t30.000000\t1\n",
      "70\t30.000000\t1\n",
      "130\t30.000000\t1\n",
      "190\t30.000000\t1\n",
      "250\t30.000000\t1\n",
      "310\t30.000000\t1\n",
      "370\t30.000000\t1\n",
      "\n"
     ]
    }
   ],
   "source": [
    "print(open('ds114_sub009_t2r1_cond.txt', 'rt').read())"
   ]
  },
  {
   "cell_type": "code",
   "execution_count": 4,
   "metadata": {
    "collapsed": true
   },
   "outputs": [],
   "source": [
    "n_events = 10\n",
    "new_cond = np.zeros((n_events, 3))"
   ]
  },
  {
   "cell_type": "code",
   "execution_count": 5,
   "metadata": {
    "collapsed": true
   },
   "outputs": [],
   "source": [
    "rng = np.random.RandomState(1918)"
   ]
  },
  {
   "cell_type": "code",
   "execution_count": 6,
   "metadata": {
    "collapsed": false
   },
   "outputs": [
    {
     "data": {
      "text/plain": [
       "array([[   3.35077545,    0.        ,    0.        ],\n",
       "       [  12.76402855,    0.        ,    0.        ],\n",
       "       [  43.26952982,    0.        ,    0.        ],\n",
       "       [  75.25362812,    0.        ,    0.        ],\n",
       "       [  95.47524241,    0.        ,    0.        ],\n",
       "       [ 167.83553811,    0.        ,    0.        ],\n",
       "       [ 282.36409917,    0.        ,    0.        ],\n",
       "       [ 304.76286249,    0.        ,    0.        ],\n",
       "       [ 356.32429914,    0.        ,    0.        ],\n",
       "       [ 372.22497656,    0.        ,    0.        ]])"
      ]
     },
     "execution_count": 6,
     "metadata": {},
     "output_type": "execute_result"
    }
   ],
   "source": [
    "new_cond[:, 0] = np.sort(rng.uniform(0, 400, size=n_events))\n",
    "new_cond"
   ]
  },
  {
   "cell_type": "code",
   "execution_count": 7,
   "metadata": {
    "collapsed": true
   },
   "outputs": [],
   "source": [
    "new_cond[:, 1] = 3"
   ]
  },
  {
   "cell_type": "code",
   "execution_count": 8,
   "metadata": {
    "collapsed": false
   },
   "outputs": [
    {
     "data": {
      "text/plain": [
       "array([[   3.35077545,    3.        ,    2.        ],\n",
       "       [  12.76402855,    3.        ,    2.        ],\n",
       "       [  43.26952982,    3.        ,    2.        ],\n",
       "       [  75.25362812,    3.        ,    1.        ],\n",
       "       [  95.47524241,    3.        ,    2.        ],\n",
       "       [ 167.83553811,    3.        ,    2.        ],\n",
       "       [ 282.36409917,    3.        ,    2.        ],\n",
       "       [ 304.76286249,    3.        ,    2.        ],\n",
       "       [ 356.32429914,    3.        ,    2.        ],\n",
       "       [ 372.22497656,    3.        ,    3.        ]])"
      ]
     },
     "execution_count": 8,
     "metadata": {},
     "output_type": "execute_result"
    }
   ],
   "source": [
    "new_cond[:, 2] = rng.randint(1, 4, size=n_events)\n",
    "new_cond"
   ]
  },
  {
   "cell_type": "code",
   "execution_count": 9,
   "metadata": {
    "collapsed": false
   },
   "outputs": [],
   "source": [
    "with open('new_cond.txt', 'wt') as fobj:\n",
    "    for row in new_cond:\n",
    "        fobj.write('{:3.2f}\\t{}\\t{}\\n'.format(*row))"
   ]
  },
  {
   "cell_type": "code",
   "execution_count": 10,
   "metadata": {
    "collapsed": false
   },
   "outputs": [
    {
     "name": "stdout",
     "output_type": "stream",
     "text": [
      "3.35\t3.0\t2.0\n",
      "12.76\t3.0\t2.0\n",
      "43.27\t3.0\t2.0\n",
      "75.25\t3.0\t1.0\n",
      "95.48\t3.0\t2.0\n",
      "167.84\t3.0\t2.0\n",
      "282.36\t3.0\t2.0\n",
      "304.76\t3.0\t2.0\n",
      "356.32\t3.0\t2.0\n",
      "372.22\t3.0\t3.0\n",
      "\n"
     ]
    }
   ],
   "source": [
    "print(open('new_cond.txt', 'rt').read())"
   ]
  }
 ],
 "metadata": {
  "kernelspec": {
   "display_name": "Python 2",
   "language": "python",
   "name": "python2"
  },
  "language_info": {
   "codemirror_mode": {
    "name": "ipython",
    "version": 2
   },
   "file_extension": ".py",
   "mimetype": "text/x-python",
   "name": "python",
   "nbconvert_exporter": "python",
   "pygments_lexer": "ipython2",
   "version": "2.7.9"
  }
 },
 "nbformat": 4,
 "nbformat_minor": 0
}
