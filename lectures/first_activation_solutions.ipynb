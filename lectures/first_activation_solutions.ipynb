{
 "cells": [
  {
   "cell_type": "code",
   "execution_count": 1,
   "metadata": {
    "collapsed": false
   },
   "outputs": [],
   "source": [
    "# - compatibility with Python 3\n",
    "from __future__ import print_function  # print('me') instead of print 'me'\n",
    "from __future__ import division  # 1/2 == 0.5, not 0"
   ]
  },
  {
   "cell_type": "code",
   "execution_count": 2,
   "metadata": {
    "collapsed": false
   },
   "outputs": [],
   "source": [
    "# - show figures inside the notebook\n",
    "%matplotlib inline"
   ]
  },
  {
   "cell_type": "code",
   "execution_count": 3,
   "metadata": {
    "collapsed": false
   },
   "outputs": [],
   "source": [
    "# - import common modules\n",
    "import numpy as np  # the Python array package\n",
    "import matplotlib.pyplot as plt  # the Python plotting package"
   ]
  },
  {
   "cell_type": "markdown",
   "metadata": {},
   "source": [
    "## The task time-course"
   ]
  },
  {
   "cell_type": "markdown",
   "metadata": {},
   "source": [
    "We've previously had a look at the file `ds114_sub009_t2r1.nii`.  This is a 4D FMRI image.\n",
    "\n",
    "Now we want to see whether we can detect any signal in that image relating to the task.\n",
    "\n",
    "The task was a block design with 10 seconds rest followed by 7 repeats of (30 seconds when the subject thought of verbs followed by 30 seconds rest).  This is called a \"covert\" task, because the subjects were thinking of verbs instead of saying them.\n",
    "\n",
    "There's a file in this directory called `ds114_sub009_t2r1_cond.txt` with the task information in it.   It comes from subject 9 task 2 and run 1 from OpenFMRI dataset https://openfmri.org/dataset/ds000114 .\n",
    "\n",
    "The file has one line of text per \"on\" block, giving the onset time of the\n",
    "block (in seconds), the duration of the block (in seconds) and the amplitude (expected amount of activation for this block - not used in this case).\n",
    "\n",
    "Here are the first four lines:\n",
    "\n",
    "```\n",
    "10\t30.000000\t1\n",
    "70\t30.000000\t1\n",
    "130\t30.000000\t1\n",
    "190\t30.000000\t1\n",
    "```"
   ]
  },
  {
   "cell_type": "code",
   "execution_count": 4,
   "metadata": {
    "collapsed": false
   },
   "outputs": [
    {
     "data": {
      "text/plain": [
       "(7, 3)"
      ]
     },
     "execution_count": 4,
     "metadata": {},
     "output_type": "execute_result"
    }
   ],
   "source": [
    "# Read the file into an array called \"task\".\n",
    "# \"task\" should have 3 columns (onset, duration, amplitude)\n",
    "# HINT: np.loadtxt\n",
    "task = np.loadtxt('ds114_sub009_t2r1_cond.txt')\n",
    "task.shape"
   ]
  },
  {
   "cell_type": "markdown",
   "metadata": {},
   "source": [
    "The repitition time (time to repeat, TR) for this FMRI run was 2.5 seconds.  We need to convert the onsets and durations to TRs - so for example the first onset was at 10 seconds, which was the start of TR 4 (10 / 2.5).\n",
    "\n",
    "Select out the first two columns of task, and divide by the TR to convert the onset and duration times to be in terms of TRs instead of seconds:"
   ]
  },
  {
   "cell_type": "code",
   "execution_count": 5,
   "metadata": {
    "collapsed": false
   },
   "outputs": [
    {
     "data": {
      "text/plain": [
       "array([[   4.,   12.],\n",
       "       [  28.,   12.],\n",
       "       [  52.,   12.],\n",
       "       [  76.,   12.],\n",
       "       [ 100.,   12.],\n",
       "       [ 124.,   12.],\n",
       "       [ 148.,   12.]])"
      ]
     },
     "execution_count": 5,
     "metadata": {},
     "output_type": "execute_result"
    }
   ],
   "source": [
    "# Select first two columns and divide by TR\n",
    "ons_durs = task[:, :2] / 2.5\n",
    "ons_durs"
   ]
  },
  {
   "cell_type": "markdown",
   "metadata": {},
   "source": [
    "Our next step is to make an on-off vector that is 0 when the subject is doing nothing and 1 when the subject is doing the covert verb task.\n",
    "\n",
    "The vector will have one value (either 0 or 1) for each TR."
   ]
  },
  {
   "cell_type": "markdown",
   "metadata": {},
   "source": [
    "First use nibabel to load the image `ds114_sub009_t2r1.nii`.  Check the image shape to find the number of TRs."
   ]
  },
  {
   "cell_type": "code",
   "execution_count": 6,
   "metadata": {
    "collapsed": false
   },
   "outputs": [
    {
     "data": {
      "text/plain": [
       "(64, 64, 30, 173)"
      ]
     },
     "execution_count": 6,
     "metadata": {},
     "output_type": "execute_result"
    }
   ],
   "source": [
    "# Load the image and check the image shape to get the number of TRs\n",
    "import nibabel as nib\n",
    "img = nib.load('ds114_sub009_t2r1.nii')\n",
    "img.shape"
   ]
  },
  {
   "cell_type": "markdown",
   "metadata": {},
   "source": [
    "Next make a new vector called `time_course` with one entry per TR, with all elements in the vector being zero:"
   ]
  },
  {
   "cell_type": "code",
   "execution_count": 7,
   "metadata": {
    "collapsed": false
   },
   "outputs": [],
   "source": [
    "# Make new zero vector\n",
    "time_course = np.zeros(img.shape[-1])"
   ]
  },
  {
   "cell_type": "markdown",
   "metadata": {},
   "source": [
    "Loop over the rows in the onsets / durations array to give you an onset / duration pair.  For each of these pairs, set the matching positions in the `time_course` vector to 1.  For example, the first pair will be `4, 12`.   That means the task started at the beginning of scan index 4, and lasted for 12 scans.  That means there should be 12 consecutive 1 values in `time_course`, starting at index 4.  That means that index 4 + 12 = 16 should be zero again, because there are 12 values starting at (including 4) going up to (but *not* including) 16."
   ]
  },
  {
   "cell_type": "code",
   "execution_count": 8,
   "metadata": {
    "collapsed": false
   },
   "outputs": [
    {
     "data": {
      "text/plain": [
       "12"
      ]
     },
     "execution_count": 8,
     "metadata": {},
     "output_type": "execute_result"
    }
   ],
   "source": [
    "# - try running this if you don't believe me\n",
    "len(range(4, 16))"
   ]
  },
  {
   "cell_type": "markdown",
   "metadata": {},
   "source": [
    "So, for the first row, you will want to set `time_course[4]` through `time_course[15]` equal to 1."
   ]
  },
  {
   "cell_type": "code",
   "execution_count": 9,
   "metadata": {
    "collapsed": false
   },
   "outputs": [],
   "source": [
    "# Fill in values of 1 for positions of on blocks in time course\n",
    "for onset, duration in ons_durs:\n",
    "    time_course[onset:onset + duration] = 1"
   ]
  },
  {
   "cell_type": "markdown",
   "metadata": {},
   "source": [
    "Plot the time course:"
   ]
  },
  {
   "cell_type": "code",
   "execution_count": 10,
   "metadata": {
    "collapsed": false
   },
   "outputs": [
    {
     "data": {
      "text/plain": [
       "[<matplotlib.lines.Line2D at 0x106e43390>]"
      ]
     },
     "execution_count": 10,
     "metadata": {},
     "output_type": "execute_result"
    },
    {
     "data": {
      "image/png": "[encoded data removed]",
      "text/plain": [
       "<matplotlib.figure.Figure at 0x105ebafd0>"
      ]
     },
     "metadata": {},
     "output_type": "display_data"
    }
   ],
   "source": [
    "# Plot the time course\n",
    "plt.plot(time_course)"
   ]
  },
  {
   "cell_type": "markdown",
   "metadata": {},
   "source": [
    "## Comparing task to rest"
   ]
  },
  {
   "cell_type": "markdown",
   "metadata": {},
   "source": [
    "Make a boolean array `is_task_tr` which is True when `time_course` is 1 and False otherwise.\n",
    "\n",
    "Make another array `is_rest_tr` that is the opposite - True when `time_course` is 0 and False otherwise."
   ]
  },
  {
   "cell_type": "code",
   "execution_count": 11,
   "metadata": {
    "collapsed": false
   },
   "outputs": [],
   "source": [
    "# Make two boolean arrays encoding task, rest\n",
    "is_task_tr = (time_course == 1)\n",
    "is_rest_tr = (time_course == 0)"
   ]
  },
  {
   "cell_type": "markdown",
   "metadata": {},
   "source": [
    "Now read the image data into an array:"
   ]
  },
  {
   "cell_type": "code",
   "execution_count": 12,
   "metadata": {
    "collapsed": false
   },
   "outputs": [],
   "source": [
    "# Read the image data into an array.\n",
    "data = img.get_data()"
   ]
  },
  {
   "cell_type": "markdown",
   "metadata": {},
   "source": [
    "Remember that the 4D array consists of one volume (3D array) per TR.\n",
    "\n",
    "We want to select the volumes where the time course is 1 (task volumes). Do this by slicing, using the boolean array you just made."
   ]
  },
  {
   "cell_type": "code",
   "execution_count": 13,
   "metadata": {
    "collapsed": false
   },
   "outputs": [],
   "source": [
    "# Create a new 4D array only containing the task volumes\n",
    "on_volumes = data[..., is_task_tr]"
   ]
  },
  {
   "cell_type": "markdown",
   "metadata": {},
   "source": [
    "Now select the volumes where the time course is 0 (rest volumes):"
   ]
  },
  {
   "cell_type": "code",
   "execution_count": 14,
   "metadata": {
    "collapsed": false
   },
   "outputs": [],
   "source": [
    "# Create a new 4D array only containing the rest volumes\n",
    "off_volumes = data[..., is_rest_tr]"
   ]
  },
  {
   "cell_type": "markdown",
   "metadata": {},
   "source": [
    "We want to know whether there is a difference in signal in the task volumes compared to the rest volumes.  Take the mean over the task volumes and mean over the rest volumes.  You should end up with two 3D volumes."
   ]
  },
  {
   "cell_type": "code",
   "execution_count": 15,
   "metadata": {
    "collapsed": false
   },
   "outputs": [],
   "source": [
    "# Create the mean volume across all the task volumes\n",
    "# Then create the mean volume across all the rest volumes\n",
    "# Hint: remember the `axis` keyword.\n",
    "on_mean = on_volumes.mean(axis=-1)\n",
    "off_mean = off_volumes.mean(axis=-1)"
   ]
  },
  {
   "cell_type": "markdown",
   "metadata": {},
   "source": [
    "Now subtract the rest mean from the task mean to get a difference volume."
   ]
  },
  {
   "cell_type": "code",
   "execution_count": 16,
   "metadata": {
    "collapsed": false
   },
   "outputs": [],
   "source": [
    "# Create a difference volume\n",
    "difference = on_mean - off_mean"
   ]
  },
  {
   "cell_type": "markdown",
   "metadata": {},
   "source": [
    "Show a slice over the third dimension of the difference volume, from somewhere around the center of the third axis:"
   ]
  },
  {
   "cell_type": "code",
   "execution_count": 17,
   "metadata": {
    "collapsed": false
   },
   "outputs": [
    {
     "data": {
      "text/plain": [
       "<matplotlib.image.AxesImage at 0x10c298250>"
      ]
     },
     "execution_count": 17,
     "metadata": {},
     "output_type": "execute_result"
    },
    {
     "data": {
      "image/png": "[encoded data removed]",
      "text/plain": [
       "<matplotlib.figure.Figure at 0x106e43c10>"
      ]
     },
     "metadata": {},
     "output_type": "display_data"
    }
   ],
   "source": [
    "# Show a slice over the third dimension\n",
    "plt.imshow(difference[:, :, 14], cmap='gray')"
   ]
  },
  {
   "cell_type": "markdown",
   "metadata": {},
   "source": [
    "This is the difference between activation and rest.  It looks a little strange.  Maybe there are some artefacts here."
   ]
  },
  {
   "cell_type": "markdown",
   "metadata": {},
   "source": [
    "## Fixing the artefact"
   ]
  },
  {
   "cell_type": "markdown",
   "metadata": {},
   "source": [
    "In the last exercise, you looked at this same 4D image to find volumes with unusually high variance / standard deviation.\n",
    "\n",
    "There is one volume in this 4D image with particularly high standard deviation."
   ]
  },
  {
   "cell_type": "markdown",
   "metadata": {},
   "source": [
    "In fact, the bad volume is one of the rest volumes.\n",
    "\n",
    "Use your slicing skills to remove this volume from your selection of rest volumes."
   ]
  },
  {
   "cell_type": "code",
   "execution_count": 18,
   "metadata": {
    "collapsed": false
   },
   "outputs": [],
   "source": [
    "# Use slicing to remove outlier volume from rest volumes\n",
    "off_volumes_fixed = off_volumes[..., 1:]"
   ]
  },
  {
   "cell_type": "markdown",
   "metadata": {},
   "source": [
    "Make a new mean for the rest volumes, and subtract this mean from the mean for the task volumes to make a new difference image.\n",
    "\n",
    "Give the new difference image a new name, so we can compare to the old difference image later."
   ]
  },
  {
   "cell_type": "code",
   "execution_count": 19,
   "metadata": {
    "collapsed": false
   },
   "outputs": [],
   "source": [
    "# Make new mean for rest volumes, subtract from task mean\n",
    "off_mean_fixed = off_volumes_fixed.mean(axis=-1)\n",
    "difference_fixed = on_mean - off_mean_fixed"
   ]
  },
  {
   "cell_type": "markdown",
   "metadata": {},
   "source": [
    "Show an example slice from the new difference volume.  Show the same slice from the old difference volume, using matplotlib."
   ]
  },
  {
   "cell_type": "code",
   "execution_count": 20,
   "metadata": {
    "collapsed": false
   },
   "outputs": [
    {
     "data": {
      "text/plain": [
       "<matplotlib.image.AxesImage at 0x10c7875d0>"
      ]
     },
     "execution_count": 20,
     "metadata": {},
     "output_type": "execute_result"
    },
    {
     "data": {
      "image/png": "[encoded data removed]",
      "text/plain": [
       "<matplotlib.figure.Figure at 0x10c2b85d0>"
      ]
     },
     "metadata": {},
     "output_type": "display_data"
    }
   ],
   "source": [
    "# show same slice from old and new difference volume\n",
    "plt.imshow(difference_fixed[:, :, 14], cmap='gray')"
   ]
  }
 ],
 "metadata": {
  "kernelspec": {
   "display_name": "Python 2",
   "language": "python",
   "name": "python2"
  },
  "language_info": {
   "codemirror_mode": {
    "name": "ipython",
    "version": 2
   },
   "file_extension": ".py",
   "mimetype": "text/x-python",
   "name": "python",
   "nbconvert_exporter": "python",
   "pygments_lexer": "ipython2",
   "version": "2.7.9"
  }
 },
 "nbformat": 4,
 "nbformat_minor": 0
}
